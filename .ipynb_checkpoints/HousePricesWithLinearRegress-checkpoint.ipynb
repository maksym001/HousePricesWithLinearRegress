{
 "cells": [
  {
   "cell_type": "markdown",
   "metadata": {
    "collapsed": true
   },
   "source": [
    "# Predicting House Prices\n",
    "\n",
    "Purpose of the project is predicting house prices using linear regresson\n",
    "\n",
    "* Clean and engineer features for the model\n",
    "* Select features based on correlation threshold whilst avoiding collinearity\n",
    "* Transform categorical columns to enable linear modelling\n",
    "* Train and testing using different crossvalidation techniques"
   ]
  },
  {
   "cell_type": "code",
   "execution_count": 1,
   "metadata": {},
   "outputs": [],
   "source": [
    "import pandas as pd\n",
    "import numpy as np\n",
    "import matplotlib.pyplot as plt\n",
    "import seaborn as sns\n",
    "pd.set_option('display.max_colwidth', None)\n",
    "pd.set_option('display.max_rows', 500)\n",
    "pd.set_option('display.max_columns', 50)\n",
    "\n",
    "%matplotlib inline"
   ]
  },
  {
   "cell_type": "code",
   "execution_count": 25,
   "metadata": {},
   "outputs": [],
   "source": [
    "data = pd.read_csv('AmesHousing.tsv', sep='\\t')"
   ]
  },
  {
   "cell_type": "code",
   "execution_count": 74,
   "metadata": {},
   "outputs": [
    {
     "data": {
      "text/plain": [
       "57088.25161263909"
      ]
     },
     "execution_count": 74,
     "metadata": {},
     "output_type": "execute_result"
    }
   ],
   "source": [
    "def transform_features(data):\n",
    "    missing_cutoff = .25\n",
    "    \n",
    "    return data\n",
    "\n",
    "def select_features(data):\n",
    "    \n",
    "    return data[['Gr Liv Area','SalePrice']]\n",
    "\n",
    "def train_and_test(data):\n",
    "    train = data.iloc[:1460]\n",
    "    test = data.iloc[1460:]\n",
    "\n",
    "    test_numeric = test.select_dtypes(include=np.number)\n",
    "    target = 'SalePrice'\n",
    "    features = [f for f in test_numeric if f != 'SalePrice']\n",
    "    \n",
    "    from sklearn.linear_model import LinearRegression\n",
    "    from sklearn.metrics import mean_squared_error\n",
    "\n",
    "    lr = LinearRegression()\n",
    "    lr.fit(train[features].values, train[target].values.reshape(-1,1))\n",
    "    \n",
    "    test_predictions = lr.predict(test[features])\n",
    "    \n",
    "    rmse = mean_squared_error(test[target],test_predictions)**(1/2)\n",
    "    \n",
    "    return rmse\n",
    "\n",
    "transformed_df =  transform_features(data)\n",
    "selected_set_df = select_features(transformed_df)\n",
    "rmse = train_and_test(selected_set_df)\n",
    "\n",
    "rmse"
   ]
  },
  {
   "cell_type": "code",
   "execution_count": 70,
   "metadata": {},
   "outputs": [
    {
     "data": {
      "text/html": [
       "<div>\n",
       "<style scoped>\n",
       "    .dataframe tbody tr th:only-of-type {\n",
       "        vertical-align: middle;\n",
       "    }\n",
       "\n",
       "    .dataframe tbody tr th {\n",
       "        vertical-align: top;\n",
       "    }\n",
       "\n",
       "    .dataframe thead th {\n",
       "        text-align: right;\n",
       "    }\n",
       "</style>\n",
       "<table border=\"1\" class=\"dataframe\">\n",
       "  <thead>\n",
       "    <tr style=\"text-align: right;\">\n",
       "      <th></th>\n",
       "      <th>Gr Liv Area</th>\n",
       "    </tr>\n",
       "  </thead>\n",
       "  <tbody>\n",
       "    <tr>\n",
       "      <th>0</th>\n",
       "      <td>1656</td>\n",
       "    </tr>\n",
       "    <tr>\n",
       "      <th>1</th>\n",
       "      <td>896</td>\n",
       "    </tr>\n",
       "    <tr>\n",
       "      <th>2</th>\n",
       "      <td>1329</td>\n",
       "    </tr>\n",
       "    <tr>\n",
       "      <th>3</th>\n",
       "      <td>2110</td>\n",
       "    </tr>\n",
       "    <tr>\n",
       "      <th>4</th>\n",
       "      <td>1629</td>\n",
       "    </tr>\n",
       "    <tr>\n",
       "      <th>...</th>\n",
       "      <td>...</td>\n",
       "    </tr>\n",
       "    <tr>\n",
       "      <th>1455</th>\n",
       "      <td>1865</td>\n",
       "    </tr>\n",
       "    <tr>\n",
       "      <th>1456</th>\n",
       "      <td>2161</td>\n",
       "    </tr>\n",
       "    <tr>\n",
       "      <th>1457</th>\n",
       "      <td>1852</td>\n",
       "    </tr>\n",
       "    <tr>\n",
       "      <th>1458</th>\n",
       "      <td>2031</td>\n",
       "    </tr>\n",
       "    <tr>\n",
       "      <th>1459</th>\n",
       "      <td>2263</td>\n",
       "    </tr>\n",
       "  </tbody>\n",
       "</table>\n",
       "<p>1460 rows × 1 columns</p>\n",
       "</div>"
      ],
      "text/plain": [
       "      Gr Liv Area\n",
       "0            1656\n",
       "1             896\n",
       "2            1329\n",
       "3            2110\n",
       "4            1629\n",
       "...           ...\n",
       "1455         1865\n",
       "1456         2161\n",
       "1457         1852\n",
       "1458         2031\n",
       "1459         2263\n",
       "\n",
       "[1460 rows x 1 columns]"
      ]
     },
     "execution_count": 70,
     "metadata": {},
     "output_type": "execute_result"
    }
   ],
   "source": [
    "train_f"
   ]
  },
  {
   "cell_type": "code",
   "execution_count": 69,
   "metadata": {},
   "outputs": [
    {
     "data": {
      "text/plain": [
       "array([[1656],\n",
       "       [ 896],\n",
       "       [1329],\n",
       "       ...,\n",
       "       [1852],\n",
       "       [2031],\n",
       "       [2263]])"
      ]
     },
     "execution_count": 69,
     "metadata": {},
     "output_type": "execute_result"
    }
   ],
   "source": [
    "train_f.values"
   ]
  },
  {
   "cell_type": "markdown",
   "metadata": {},
   "source": [
    "## Data Cleaning and Feature Engineering"
   ]
  },
  {
   "cell_type": "code",
   "execution_count": 20,
   "metadata": {},
   "outputs": [
    {
     "data": {
      "text/html": [
       "<div>\n",
       "<style scoped>\n",
       "    .dataframe tbody tr th:only-of-type {\n",
       "        vertical-align: middle;\n",
       "    }\n",
       "\n",
       "    .dataframe tbody tr th {\n",
       "        vertical-align: top;\n",
       "    }\n",
       "\n",
       "    .dataframe thead th {\n",
       "        text-align: right;\n",
       "    }\n",
       "</style>\n",
       "<table border=\"1\" class=\"dataframe\">\n",
       "  <thead>\n",
       "    <tr style=\"text-align: right;\">\n",
       "      <th></th>\n",
       "      <th>Order</th>\n",
       "      <th>PID</th>\n",
       "      <th>MS SubClass</th>\n",
       "      <th>Lot Frontage</th>\n",
       "      <th>Lot Area</th>\n",
       "      <th>Overall Qual</th>\n",
       "      <th>Overall Cond</th>\n",
       "      <th>Year Built</th>\n",
       "      <th>Year Remod/Add</th>\n",
       "      <th>Mas Vnr Area</th>\n",
       "      <th>...</th>\n",
       "      <th>Wood Deck SF</th>\n",
       "      <th>Open Porch SF</th>\n",
       "      <th>Enclosed Porch</th>\n",
       "      <th>3Ssn Porch</th>\n",
       "      <th>Screen Porch</th>\n",
       "      <th>Pool Area</th>\n",
       "      <th>Misc Val</th>\n",
       "      <th>Mo Sold</th>\n",
       "      <th>Yr Sold</th>\n",
       "      <th>SalePrice</th>\n",
       "    </tr>\n",
       "  </thead>\n",
       "  <tbody>\n",
       "    <tr>\n",
       "      <th>count</th>\n",
       "      <td>2930.00000</td>\n",
       "      <td>2.930000e+03</td>\n",
       "      <td>2930.000000</td>\n",
       "      <td>2440.000000</td>\n",
       "      <td>2930.000000</td>\n",
       "      <td>2930.000000</td>\n",
       "      <td>2930.000000</td>\n",
       "      <td>2930.000000</td>\n",
       "      <td>2930.000000</td>\n",
       "      <td>2907.000000</td>\n",
       "      <td>...</td>\n",
       "      <td>2930.000000</td>\n",
       "      <td>2930.000000</td>\n",
       "      <td>2930.000000</td>\n",
       "      <td>2930.000000</td>\n",
       "      <td>2930.000000</td>\n",
       "      <td>2930.000000</td>\n",
       "      <td>2930.000000</td>\n",
       "      <td>2930.000000</td>\n",
       "      <td>2930.000000</td>\n",
       "      <td>2930.000000</td>\n",
       "    </tr>\n",
       "    <tr>\n",
       "      <th>mean</th>\n",
       "      <td>1465.50000</td>\n",
       "      <td>7.144645e+08</td>\n",
       "      <td>57.387372</td>\n",
       "      <td>69.224590</td>\n",
       "      <td>10147.921843</td>\n",
       "      <td>6.094881</td>\n",
       "      <td>5.563140</td>\n",
       "      <td>1971.356314</td>\n",
       "      <td>1984.266553</td>\n",
       "      <td>101.896801</td>\n",
       "      <td>...</td>\n",
       "      <td>93.751877</td>\n",
       "      <td>47.533447</td>\n",
       "      <td>23.011604</td>\n",
       "      <td>2.592491</td>\n",
       "      <td>16.002048</td>\n",
       "      <td>2.243345</td>\n",
       "      <td>50.635154</td>\n",
       "      <td>6.216041</td>\n",
       "      <td>2007.790444</td>\n",
       "      <td>180796.060068</td>\n",
       "    </tr>\n",
       "    <tr>\n",
       "      <th>std</th>\n",
       "      <td>845.96247</td>\n",
       "      <td>1.887308e+08</td>\n",
       "      <td>42.638025</td>\n",
       "      <td>23.365335</td>\n",
       "      <td>7880.017759</td>\n",
       "      <td>1.411026</td>\n",
       "      <td>1.111537</td>\n",
       "      <td>30.245361</td>\n",
       "      <td>20.860286</td>\n",
       "      <td>179.112611</td>\n",
       "      <td>...</td>\n",
       "      <td>126.361562</td>\n",
       "      <td>67.483400</td>\n",
       "      <td>64.139059</td>\n",
       "      <td>25.141331</td>\n",
       "      <td>56.087370</td>\n",
       "      <td>35.597181</td>\n",
       "      <td>566.344288</td>\n",
       "      <td>2.714492</td>\n",
       "      <td>1.316613</td>\n",
       "      <td>79886.692357</td>\n",
       "    </tr>\n",
       "    <tr>\n",
       "      <th>min</th>\n",
       "      <td>1.00000</td>\n",
       "      <td>5.263011e+08</td>\n",
       "      <td>20.000000</td>\n",
       "      <td>21.000000</td>\n",
       "      <td>1300.000000</td>\n",
       "      <td>1.000000</td>\n",
       "      <td>1.000000</td>\n",
       "      <td>1872.000000</td>\n",
       "      <td>1950.000000</td>\n",
       "      <td>0.000000</td>\n",
       "      <td>...</td>\n",
       "      <td>0.000000</td>\n",
       "      <td>0.000000</td>\n",
       "      <td>0.000000</td>\n",
       "      <td>0.000000</td>\n",
       "      <td>0.000000</td>\n",
       "      <td>0.000000</td>\n",
       "      <td>0.000000</td>\n",
       "      <td>1.000000</td>\n",
       "      <td>2006.000000</td>\n",
       "      <td>12789.000000</td>\n",
       "    </tr>\n",
       "    <tr>\n",
       "      <th>25%</th>\n",
       "      <td>733.25000</td>\n",
       "      <td>5.284770e+08</td>\n",
       "      <td>20.000000</td>\n",
       "      <td>58.000000</td>\n",
       "      <td>7440.250000</td>\n",
       "      <td>5.000000</td>\n",
       "      <td>5.000000</td>\n",
       "      <td>1954.000000</td>\n",
       "      <td>1965.000000</td>\n",
       "      <td>0.000000</td>\n",
       "      <td>...</td>\n",
       "      <td>0.000000</td>\n",
       "      <td>0.000000</td>\n",
       "      <td>0.000000</td>\n",
       "      <td>0.000000</td>\n",
       "      <td>0.000000</td>\n",
       "      <td>0.000000</td>\n",
       "      <td>0.000000</td>\n",
       "      <td>4.000000</td>\n",
       "      <td>2007.000000</td>\n",
       "      <td>129500.000000</td>\n",
       "    </tr>\n",
       "    <tr>\n",
       "      <th>50%</th>\n",
       "      <td>1465.50000</td>\n",
       "      <td>5.354536e+08</td>\n",
       "      <td>50.000000</td>\n",
       "      <td>68.000000</td>\n",
       "      <td>9436.500000</td>\n",
       "      <td>6.000000</td>\n",
       "      <td>5.000000</td>\n",
       "      <td>1973.000000</td>\n",
       "      <td>1993.000000</td>\n",
       "      <td>0.000000</td>\n",
       "      <td>...</td>\n",
       "      <td>0.000000</td>\n",
       "      <td>27.000000</td>\n",
       "      <td>0.000000</td>\n",
       "      <td>0.000000</td>\n",
       "      <td>0.000000</td>\n",
       "      <td>0.000000</td>\n",
       "      <td>0.000000</td>\n",
       "      <td>6.000000</td>\n",
       "      <td>2008.000000</td>\n",
       "      <td>160000.000000</td>\n",
       "    </tr>\n",
       "    <tr>\n",
       "      <th>75%</th>\n",
       "      <td>2197.75000</td>\n",
       "      <td>9.071811e+08</td>\n",
       "      <td>70.000000</td>\n",
       "      <td>80.000000</td>\n",
       "      <td>11555.250000</td>\n",
       "      <td>7.000000</td>\n",
       "      <td>6.000000</td>\n",
       "      <td>2001.000000</td>\n",
       "      <td>2004.000000</td>\n",
       "      <td>164.000000</td>\n",
       "      <td>...</td>\n",
       "      <td>168.000000</td>\n",
       "      <td>70.000000</td>\n",
       "      <td>0.000000</td>\n",
       "      <td>0.000000</td>\n",
       "      <td>0.000000</td>\n",
       "      <td>0.000000</td>\n",
       "      <td>0.000000</td>\n",
       "      <td>8.000000</td>\n",
       "      <td>2009.000000</td>\n",
       "      <td>213500.000000</td>\n",
       "    </tr>\n",
       "    <tr>\n",
       "      <th>max</th>\n",
       "      <td>2930.00000</td>\n",
       "      <td>1.007100e+09</td>\n",
       "      <td>190.000000</td>\n",
       "      <td>313.000000</td>\n",
       "      <td>215245.000000</td>\n",
       "      <td>10.000000</td>\n",
       "      <td>9.000000</td>\n",
       "      <td>2010.000000</td>\n",
       "      <td>2010.000000</td>\n",
       "      <td>1600.000000</td>\n",
       "      <td>...</td>\n",
       "      <td>1424.000000</td>\n",
       "      <td>742.000000</td>\n",
       "      <td>1012.000000</td>\n",
       "      <td>508.000000</td>\n",
       "      <td>576.000000</td>\n",
       "      <td>800.000000</td>\n",
       "      <td>17000.000000</td>\n",
       "      <td>12.000000</td>\n",
       "      <td>2010.000000</td>\n",
       "      <td>755000.000000</td>\n",
       "    </tr>\n",
       "  </tbody>\n",
       "</table>\n",
       "<p>8 rows × 39 columns</p>\n",
       "</div>"
      ],
      "text/plain": [
       "            Order           PID  MS SubClass  Lot Frontage       Lot Area  \\\n",
       "count  2930.00000  2.930000e+03  2930.000000   2440.000000    2930.000000   \n",
       "mean   1465.50000  7.144645e+08    57.387372     69.224590   10147.921843   \n",
       "std     845.96247  1.887308e+08    42.638025     23.365335    7880.017759   \n",
       "min       1.00000  5.263011e+08    20.000000     21.000000    1300.000000   \n",
       "25%     733.25000  5.284770e+08    20.000000     58.000000    7440.250000   \n",
       "50%    1465.50000  5.354536e+08    50.000000     68.000000    9436.500000   \n",
       "75%    2197.75000  9.071811e+08    70.000000     80.000000   11555.250000   \n",
       "max    2930.00000  1.007100e+09   190.000000    313.000000  215245.000000   \n",
       "\n",
       "       Overall Qual  Overall Cond   Year Built  Year Remod/Add  Mas Vnr Area  \\\n",
       "count   2930.000000   2930.000000  2930.000000     2930.000000   2907.000000   \n",
       "mean       6.094881      5.563140  1971.356314     1984.266553    101.896801   \n",
       "std        1.411026      1.111537    30.245361       20.860286    179.112611   \n",
       "min        1.000000      1.000000  1872.000000     1950.000000      0.000000   \n",
       "25%        5.000000      5.000000  1954.000000     1965.000000      0.000000   \n",
       "50%        6.000000      5.000000  1973.000000     1993.000000      0.000000   \n",
       "75%        7.000000      6.000000  2001.000000     2004.000000    164.000000   \n",
       "max       10.000000      9.000000  2010.000000     2010.000000   1600.000000   \n",
       "\n",
       "       ...  Wood Deck SF  Open Porch SF  Enclosed Porch   3Ssn Porch  \\\n",
       "count  ...   2930.000000    2930.000000     2930.000000  2930.000000   \n",
       "mean   ...     93.751877      47.533447       23.011604     2.592491   \n",
       "std    ...    126.361562      67.483400       64.139059    25.141331   \n",
       "min    ...      0.000000       0.000000        0.000000     0.000000   \n",
       "25%    ...      0.000000       0.000000        0.000000     0.000000   \n",
       "50%    ...      0.000000      27.000000        0.000000     0.000000   \n",
       "75%    ...    168.000000      70.000000        0.000000     0.000000   \n",
       "max    ...   1424.000000     742.000000     1012.000000   508.000000   \n",
       "\n",
       "       Screen Porch    Pool Area      Misc Val      Mo Sold      Yr Sold  \\\n",
       "count   2930.000000  2930.000000   2930.000000  2930.000000  2930.000000   \n",
       "mean      16.002048     2.243345     50.635154     6.216041  2007.790444   \n",
       "std       56.087370    35.597181    566.344288     2.714492     1.316613   \n",
       "min        0.000000     0.000000      0.000000     1.000000  2006.000000   \n",
       "25%        0.000000     0.000000      0.000000     4.000000  2007.000000   \n",
       "50%        0.000000     0.000000      0.000000     6.000000  2008.000000   \n",
       "75%        0.000000     0.000000      0.000000     8.000000  2009.000000   \n",
       "max      576.000000   800.000000  17000.000000    12.000000  2010.000000   \n",
       "\n",
       "           SalePrice  \n",
       "count    2930.000000  \n",
       "mean   180796.060068  \n",
       "std     79886.692357  \n",
       "min     12789.000000  \n",
       "25%    129500.000000  \n",
       "50%    160000.000000  \n",
       "75%    213500.000000  \n",
       "max    755000.000000  \n",
       "\n",
       "[8 rows x 39 columns]"
      ]
     },
     "execution_count": 20,
     "metadata": {},
     "output_type": "execute_result"
    }
   ],
   "source": [
    "\n",
    "data.describe(include=np.number)"
   ]
  },
  {
   "cell_type": "code",
   "execution_count": 244,
   "metadata": {},
   "outputs": [
    {
     "data": {
      "text/plain": [
       "Lot Frontage     16.72\n",
       "Alley            93.24\n",
       "Fireplace Qu     48.53\n",
       "Garage Type       5.36\n",
       "Garage Yr Blt     5.43\n",
       "Garage Finish     5.43\n",
       "Garage Qual       5.43\n",
       "Garage Cond       5.43\n",
       "Pool QC          99.56\n",
       "Fence            80.48\n",
       "Misc Feature     96.38\n",
       "dtype: float64"
      ]
     },
     "execution_count": 244,
     "metadata": {},
     "output_type": "execute_result"
    }
   ],
   "source": [
    "# Check missing values 5% and more\n",
    "perc_missing = round((data.isna().sum()/data['Order'].count())*100,2) > 5\n",
    "perc_missing.loc[perc_missing > 5]"
   ]
  },
  {
   "cell_type": "code",
   "execution_count": 245,
   "metadata": {},
   "outputs": [],
   "source": [
    "# Drop columns with missing values larger than 5%\n",
    "data.drop(columns=perc_missing.loc[perc_missing > 5].index, inplace=True)"
   ]
  },
  {
   "cell_type": "code",
   "execution_count": 246,
   "metadata": {},
   "outputs": [],
   "source": [
    "# Drop categorical data columns\n",
    "# round((data.isna().sum()/data['Order'].count())*100,2)\n",
    "# data.select_dtypes(exclude=np.number)"
   ]
  },
  {
   "cell_type": "code",
   "execution_count": 247,
   "metadata": {},
   "outputs": [
    {
     "data": {
      "text/plain": [
       "Mas Vnr Area      23\n",
       "BsmtFin SF 1       1\n",
       "BsmtFin SF 2       1\n",
       "Bsmt Unf SF        1\n",
       "Total Bsmt SF      1\n",
       "Bsmt Full Bath     2\n",
       "Bsmt Half Bath     2\n",
       "Garage Cars        1\n",
       "Garage Area        1\n",
       "dtype: int64"
      ]
     },
     "execution_count": 247,
     "metadata": {},
     "output_type": "execute_result"
    }
   ],
   "source": [
    "# Review numeric columms with missing values and impute\n",
    "# for categorical data this will be mode\n",
    "# for interval mean\n",
    "missing_numeric = data.select_dtypes(include=np.number).isna().sum()\n",
    "missing_numeric = missing_numeric[missing_numeric > 0]\n",
    "missing_numeric"
   ]
  },
  {
   "cell_type": "code",
   "execution_count": 248,
   "metadata": {},
   "outputs": [
    {
     "data": {
      "image/png": "[encoded data removed]",
      "text/plain": [
       "<Figure size 576x1800 with 9 Axes>"
      ]
     },
     "metadata": {
      "needs_background": "light"
     },
     "output_type": "display_data"
    }
   ],
   "source": [
    "# Create overview of number distribution to decide on imputation\n",
    "sp = 0\n",
    "fig = plt.figure(figsize=(8, 25))\n",
    "for c in missing_numeric.index:\n",
    "    ax = fig.add_subplot(9,1,sp+1)\n",
    "    fig.subplots_adjust(hspace=.5)\n",
    "    ax.plot(data[c].value_counts().values, data[c].value_counts().index, linewidth=3)\n",
    "    ax.set_title(c)\n",
    "    sp += 1\n",
    "# plt.tight_layout\n",
    "plt.show()\n"
   ]
  },
  {
   "cell_type": "code",
   "execution_count": 249,
   "metadata": {},
   "outputs": [],
   "source": [
    "# impute_dict = dict()\n",
    "# it = 0\n",
    "# for c in missing_numeric.index:\n",
    "#     impute_dict[c] = data[c].mode().loc[0]\n",
    "        \n",
    "\n",
    "# impute_dict  "
   ]
  },
  {
   "cell_type": "markdown",
   "metadata": {},
   "source": [
    "The data in columns with missing values does not seem to have a distribution pattern hence the only way to impute is to use mode."
   ]
  },
  {
   "cell_type": "code",
   "execution_count": 250,
   "metadata": {},
   "outputs": [],
   "source": [
    "data[missing_numeric.index] = data[missing_numeric.index].fillna(data[missing_numeric.index].mode().loc[0])"
   ]
  },
  {
   "cell_type": "code",
   "execution_count": 251,
   "metadata": {},
   "outputs": [
    {
     "data": {
      "text/plain": [
       "0     64\n",
       "80     3\n",
       "83     1\n",
       "81     1\n",
       "23     1\n",
       "1      1\n",
       "dtype: int64"
      ]
     },
     "execution_count": 251,
     "metadata": {},
     "output_type": "execute_result"
    }
   ],
   "source": [
    "data.isna().sum().value_counts(dropna=False)"
   ]
  },
  {
   "cell_type": "markdown",
   "metadata": {},
   "source": [
    "No missing data in numeric columns"
   ]
  },
  {
   "cell_type": "code",
   "execution_count": 252,
   "metadata": {},
   "outputs": [
    {
     "data": {
      "text/plain": [
       "-1        1\n",
       " 0      116\n",
       " 1      218\n",
       " 2       90\n",
       " 3       60\n",
       " 4       76\n",
       " 5       66\n",
       " 6       66\n",
       " 7       51\n",
       " 8       44\n",
       " 9       50\n",
       " 10      40\n",
       " 11      47\n",
       " 12      33\n",
       " 13      38\n",
       " 14      27\n",
       " 15      31\n",
       " 16      22\n",
       " 17      25\n",
       " 18      14\n",
       " 19      16\n",
       " 20       9\n",
       " 21       9\n",
       " 22      12\n",
       " 23      12\n",
       " 24       8\n",
       " 25      11\n",
       " 26      17\n",
       " 27       9\n",
       " 28      19\n",
       " 29      30\n",
       " 30      41\n",
       " 31      53\n",
       " 32      45\n",
       " 33      32\n",
       " 34      30\n",
       " 35      27\n",
       " 36      36\n",
       " 37      38\n",
       " 38      33\n",
       " 39      48\n",
       " 40      33\n",
       " 41      32\n",
       " 42      41\n",
       " 43      39\n",
       " 44      38\n",
       " 45      30\n",
       " 46      32\n",
       " 47      36\n",
       " 48      35\n",
       " 49      44\n",
       " 50      36\n",
       " 51      45\n",
       " 52      39\n",
       " 53      37\n",
       " 54      33\n",
       " 55      27\n",
       " 56      25\n",
       " 57      20\n",
       " 58      22\n",
       " 59      24\n",
       " 60      20\n",
       " 61      16\n",
       " 62      17\n",
       " 63       7\n",
       " 64       5\n",
       " 65      10\n",
       " 66       8\n",
       " 67      14\n",
       " 68      27\n",
       " 69      21\n",
       " 70      21\n",
       " 71      12\n",
       " 72       7\n",
       " 73      11\n",
       " 74       7\n",
       " 75       3\n",
       " 76      10\n",
       " 77      14\n",
       " 78      13\n",
       " 79       4\n",
       " 80      12\n",
       " 81      23\n",
       " 82      20\n",
       " 83      17\n",
       " 84      22\n",
       " 85      13\n",
       " 86      21\n",
       " 87      22\n",
       " 88      23\n",
       " 89      20\n",
       " 90      12\n",
       " 91       9\n",
       " 92       6\n",
       " 93      13\n",
       " 94      12\n",
       " 95       5\n",
       " 96      12\n",
       " 97      11\n",
       " 98      10\n",
       " 99      13\n",
       " 100      5\n",
       " 101      1\n",
       " 102      1\n",
       " 103      3\n",
       " 104      1\n",
       " 106     10\n",
       " 107      5\n",
       " 108      7\n",
       " 109      5\n",
       " 110      5\n",
       " 111      1\n",
       " 112      2\n",
       " 113      1\n",
       " 114      2\n",
       " 115      1\n",
       " 117      3\n",
       " 118      2\n",
       " 119      2\n",
       " 120      1\n",
       " 122      1\n",
       " 125      1\n",
       " 126      1\n",
       " 127      2\n",
       " 128      2\n",
       " 129      2\n",
       " 135      1\n",
       " 136      1\n",
       "dtype: int64"
      ]
     },
     "execution_count": 252,
     "metadata": {},
     "output_type": "execute_result"
    }
   ],
   "source": [
    "(data['Yr Sold'] - data['Year Built']).value_counts().sort_index()"
   ]
  },
  {
   "cell_type": "code",
   "execution_count": 253,
   "metadata": {},
   "outputs": [],
   "source": [
    "# Create new column that consolidates information from Yr Sold and Year Built in one feature\n",
    "sold_since_built = data['Yr Sold'] - data['Year Built']\n",
    "\n",
    "# Also consolidate information between Sold and Remodelled\n",
    "sold_since_remodeled = data['Yr Sold'] - data['Year Remod/Add']"
   ]
  },
  {
   "cell_type": "code",
   "execution_count": 254,
   "metadata": {},
   "outputs": [
    {
     "data": {
      "text/plain": [
       "2180   -1\n",
       "dtype: int64"
      ]
     },
     "execution_count": 254,
     "metadata": {},
     "output_type": "execute_result"
    }
   ],
   "source": [
    "sold_since_built[sold_since_built < 0]"
   ]
  },
  {
   "cell_type": "code",
   "execution_count": 255,
   "metadata": {},
   "outputs": [
    {
     "data": {
      "text/plain": [
       "1702   -1\n",
       "2180   -2\n",
       "2181   -1\n",
       "dtype: int64"
      ]
     },
     "execution_count": 255,
     "metadata": {},
     "output_type": "execute_result"
    }
   ],
   "source": [
    "sold_since_remodeled[sold_since_remodeled < 0]"
   ]
  },
  {
   "cell_type": "markdown",
   "metadata": {},
   "source": [
    "There are negative values that need to be removed.  And new column/feature created"
   ]
  },
  {
   "cell_type": "code",
   "execution_count": 256,
   "metadata": {},
   "outputs": [],
   "source": [
    "data['sold_since_built'] = sold_since_built\n",
    "data.drop(data[data['sold_since_built'] < 0].index, axis=0, inplace=True)"
   ]
  },
  {
   "cell_type": "code",
   "execution_count": 257,
   "metadata": {},
   "outputs": [],
   "source": [
    "data['sold_since_remodeled'] = sold_since_remodeled\n",
    "data.drop(data[data['sold_since_remodeled'] < 0].index, inplace=True)"
   ]
  },
  {
   "cell_type": "code",
   "execution_count": 258,
   "metadata": {},
   "outputs": [
    {
     "data": {
      "text/plain": [
       "Series([], Name: sold_since_built, dtype: int64)"
      ]
     },
     "execution_count": 258,
     "metadata": {},
     "output_type": "execute_result"
    }
   ],
   "source": [
    "data.loc[data['sold_since_built'] < 0, 'sold_since_built']"
   ]
  },
  {
   "cell_type": "code",
   "execution_count": 259,
   "metadata": {},
   "outputs": [
    {
     "data": {
      "text/plain": [
       "Series([], Name: sold_since_remodeled, dtype: int64)"
      ]
     },
     "execution_count": 259,
     "metadata": {},
     "output_type": "execute_result"
    }
   ],
   "source": [
    "data.loc[data['sold_since_remodeled'] < 0, 'sold_since_remodeled']"
   ]
  },
  {
   "cell_type": "code",
   "execution_count": 260,
   "metadata": {},
   "outputs": [
    {
     "data": {
      "text/plain": [
       "Int64Index([], dtype='int64')"
      ]
     },
     "execution_count": 260,
     "metadata": {},
     "output_type": "execute_result"
    }
   ],
   "source": [
    "data[data['sold_since_built'] < 0].index"
   ]
  },
  {
   "cell_type": "code",
   "execution_count": 241,
   "metadata": {},
   "outputs": [
    {
     "data": {
      "text/plain": [
       "count       2927\n",
       "unique         6\n",
       "top       Normal\n",
       "freq        2413\n",
       "Name: Sale Condition, dtype: object"
      ]
     },
     "execution_count": 241,
     "metadata": {},
     "output_type": "execute_result"
    }
   ],
   "source": [
    "data.describe(include=['O'], exclude=np.number)"
   ]
  },
  {
   "cell_type": "code",
   "execution_count": 262,
   "metadata": {},
   "outputs": [],
   "source": [
    "# Columns that provide redundant information or  \n",
    "# (based on column description or as a result of combining into the new columns) correlated with SalePrice\n",
    "redundant_cols = ['Mo Sold', 'Yr Sold','Sale Condition','Sale Type','Year Remod/Add','Year Built']\n",
    "data.drop(redundant_cols, axis=1, inplace=True)"
   ]
  },
  {
   "cell_type": "code",
   "execution_count": 263,
   "metadata": {},
   "outputs": [],
   "source": [
    "# Remove numeric columns that do not bear on price such as Order ID or PID\n",
    "data.drop(['Order','PID'], axis=1, inplace=True)\n"
   ]
  },
  {
   "cell_type": "code",
   "execution_count": 264,
   "metadata": {},
   "outputs": [],
   "source": [
    "# Remove all non-numeric columns\n",
    "non_num_cols = data.select_dtypes(exclude=np.number).columns\n",
    "data.drop(non_num_cols, axis=1, inplace=True)"
   ]
  },
  {
   "cell_type": "code",
   "execution_count": 265,
   "metadata": {},
   "outputs": [
    {
     "name": "stdout",
     "output_type": "stream",
     "text": [
      "<class 'pandas.core.frame.DataFrame'>\n",
      "Int64Index: 2927 entries, 0 to 2929\n",
      "Data columns (total 33 columns):\n",
      " #   Column                Non-Null Count  Dtype  \n",
      "---  ------                --------------  -----  \n",
      " 0   MS SubClass           2927 non-null   int64  \n",
      " 1   Lot Area              2927 non-null   int64  \n",
      " 2   Overall Qual          2927 non-null   int64  \n",
      " 3   Overall Cond          2927 non-null   int64  \n",
      " 4   Mas Vnr Area          2927 non-null   float64\n",
      " 5   BsmtFin SF 1          2927 non-null   float64\n",
      " 6   BsmtFin SF 2          2927 non-null   float64\n",
      " 7   Bsmt Unf SF           2927 non-null   float64\n",
      " 8   Total Bsmt SF         2927 non-null   float64\n",
      " 9   1st Flr SF            2927 non-null   int64  \n",
      " 10  2nd Flr SF            2927 non-null   int64  \n",
      " 11  Low Qual Fin SF       2927 non-null   int64  \n",
      " 12  Gr Liv Area           2927 non-null   int64  \n",
      " 13  Bsmt Full Bath        2927 non-null   float64\n",
      " 14  Bsmt Half Bath        2927 non-null   float64\n",
      " 15  Full Bath             2927 non-null   int64  \n",
      " 16  Half Bath             2927 non-null   int64  \n",
      " 17  Bedroom AbvGr         2927 non-null   int64  \n",
      " 18  Kitchen AbvGr         2927 non-null   int64  \n",
      " 19  TotRms AbvGrd         2927 non-null   int64  \n",
      " 20  Fireplaces            2927 non-null   int64  \n",
      " 21  Garage Cars           2927 non-null   float64\n",
      " 22  Garage Area           2927 non-null   float64\n",
      " 23  Wood Deck SF          2927 non-null   int64  \n",
      " 24  Open Porch SF         2927 non-null   int64  \n",
      " 25  Enclosed Porch        2927 non-null   int64  \n",
      " 26  3Ssn Porch            2927 non-null   int64  \n",
      " 27  Screen Porch          2927 non-null   int64  \n",
      " 28  Pool Area             2927 non-null   int64  \n",
      " 29  Misc Val              2927 non-null   int64  \n",
      " 30  SalePrice             2927 non-null   int64  \n",
      " 31  sold_since_built      2927 non-null   int64  \n",
      " 32  sold_since_remodeled  2927 non-null   int64  \n",
      "dtypes: float64(9), int64(24)\n",
      "memory usage: 777.5 KB\n"
     ]
    }
   ],
   "source": [
    "data.info()"
   ]
  },
  {
   "cell_type": "markdown",
   "metadata": {},
   "source": [
    "### Update Function transform_features()"
   ]
  },
  {
   "cell_type": "code",
   "execution_count": 59,
   "metadata": {},
   "outputs": [],
   "source": [
    "# Reload the Data and check if updated function works\n",
    "data = pd.read_csv('AmesHousing.tsv', sep='\\t')"
   ]
  },
  {
   "cell_type": "code",
   "execution_count": 420,
   "metadata": {},
   "outputs": [
    {
     "data": {
      "text/plain": [
       "55275.367312413066"
      ]
     },
     "execution_count": 420,
     "metadata": {},
     "output_type": "execute_result"
    }
   ],
   "source": [
    "def transform_features(data):\n",
    "    # drop columns that have more than 5% missing\n",
    "    perc_missing = round((data.isna().sum()/data.shape[0])*100,2) \n",
    "    missing_cutoff = perc_missing.loc[perc_missing > 5].index\n",
    "    data.drop(columns=missing_cutoff, inplace=True)\n",
    "\n",
    "    # Review remaining numeric columms with missing values and impute mode\n",
    "    # as data investigation showed the data is not normally distributed\n",
    "    missing_numeric = data.select_dtypes(include=np.number).isna().sum()\n",
    "    missing_numeric = missing_numeric[missing_numeric > 0]\n",
    "    # Impute mode\n",
    "    data[missing_numeric.index] = data[missing_numeric.index].fillna(data[missing_numeric.index].mode().loc[0])\n",
    "\n",
    "    # Create new column that consolidates information from Yr Sold and Year Built in one feature\n",
    "    sold_since_built = data['Yr Sold'] - data['Year Built']\n",
    "\n",
    "    # Also consolidate information between Sold and Remodelled\n",
    "    sold_since_remodeled = data['Yr Sold'] - data['Year Remod/Add']\n",
    "\n",
    "    # Drop columns with negative result as it indicates incorrect data\n",
    "    data['sold_since_built'] = sold_since_built\n",
    "    data.drop(data[data['sold_since_built'] < 0].index, axis=0, inplace=True)\n",
    "\n",
    "    data['sold_since_remodeled'] = sold_since_remodeled\n",
    "    data.drop(data[data['sold_since_remodeled'] < 0].index, inplace=True)\n",
    "\n",
    "    # Remove columns that provide redundant information or\n",
    "    # (based on column description or as a result of combining into the new columns) correlated with SalePrice\n",
    "    redundant_cols = ['Mo Sold', 'Yr Sold','Sale Condition','Sale Type','Year Remod/Add','Year Built']\n",
    "    data.drop(redundant_cols, axis=1, inplace=True)\n",
    "\n",
    "    # Remove numeric columns that do not bear on price such as Order ID or PID\n",
    "    data.drop(['Order','PID'], axis=1, inplace=True)\n",
    "\n",
    "    # Remove all non-numeric columns\n",
    "#     non_num_cols = data.select_dtypes(exclude=np.number).columns\n",
    "#     data.drop(non_num_cols, axis=1, inplace=True)\n",
    "\n",
    "    return data\n",
    "\n",
    "def select_features(data):\n",
    "\n",
    "    return data[['Gr Liv Area','SalePrice']]\n",
    "\n",
    "def train_and_test(data):\n",
    "    train = data.iloc[:1460]\n",
    "    test = data.iloc[1460:]\n",
    "    test_numeric = test.select_dtypes(include=np.number)\n",
    "    target = 'SalePrice'\n",
    "    features = [f for f in test_numeric if f != 'SalePrice']\n",
    "\n",
    "    from sklearn.linear_model import LinearRegression\n",
    "    from sklearn.metrics import mean_squared_error\n",
    "\n",
    "    lr = LinearRegression()\n",
    "    lr.fit(train[features].values.reshape(-1,1), train[target].values.reshape(-1,1))\n",
    "\n",
    "    test_predictions = lr.predict(test[features])\n",
    "\n",
    "    rmse = mean_squared_error(test[target],test_predictions)**(1/2)\n",
    "\n",
    "    return rmse\n",
    "\n",
    "transformed_df =  transform_features(data)\n",
    "selected_set_df = select_features(transformed_df)\n",
    "rmse = train_and_test(selected_set_df)\n",
    "\n",
    "rmse"
   ]
  },
  {
   "cell_type": "markdown",
   "metadata": {},
   "source": [
    "## Feature Selection\n",
    "\n",
    "* Look at correlation with target column (SalesPrice) as there is no easy ability to look at all correlations.\n",
    "* Select cut out correlation and use resulting set to see if there is no Collinearity between columns.  The columns that are strongly correlated with each other likely to duplicate information and only one should be left!"
   ]
  },
  {
   "cell_type": "code",
   "execution_count": 313,
   "metadata": {},
   "outputs": [
    {
     "data": {
      "text/plain": [
       "Open Porch SF           0.316262\n",
       "Wood Deck SF            0.328183\n",
       "BsmtFin SF 1            0.439284\n",
       "Fireplaces              0.474831\n",
       "TotRms AbvGrd           0.498574\n",
       "Mas Vnr Area            0.506983\n",
       "sold_since_remodeled    0.534985\n",
       "Full Bath               0.546118\n",
       "sold_since_built        0.558979\n",
       "1st Flr SF              0.635185\n",
       "Garage Area             0.641425\n",
       "Total Bsmt SF           0.644012\n",
       "Garage Cars             0.648361\n",
       "Gr Liv Area             0.717596\n",
       "Overall Qual            0.801206\n",
       "SalePrice               1.000000\n",
       "Name: SalePrice, dtype: float64"
      ]
     },
     "execution_count": 313,
     "metadata": {},
     "output_type": "execute_result"
    }
   ],
   "source": [
    "# Select .3 as a cutover and then revisit after training cycle\n",
    "sorted_corr = data.corr()['SalePrice'].abs().sort_values() \n",
    "select_corr = sorted_corr[sorted_corr > .3]\n",
    "select_corr"
   ]
  },
  {
   "cell_type": "code",
   "execution_count": 319,
   "metadata": {},
   "outputs": [
    {
     "data": {
      "text/plain": [
       "<matplotlib.axes._subplots.AxesSubplot at 0x7fa92c99ae80>"
      ]
     },
     "execution_count": 319,
     "metadata": {},
     "output_type": "execute_result"
    },
    {
     "data": {
      "image/png": "[encoded data removed]",
      "text/plain": [
       "<Figure size 432x288 with 2 Axes>"
      ]
     },
     "metadata": {
      "needs_background": "light"
     },
     "output_type": "display_data"
    }
   ],
   "source": [
    "train = data.iloc[:1460]\n",
    "test = data.iloc[1460:]\n",
    "\n",
    "corrmat = train[select_corr.index]\n",
    "\n",
    "sns.heatmap(corrmat.corr().abs())"
   ]
  },
  {
   "cell_type": "markdown",
   "metadata": {},
   "source": [
    "### Heatmap conclusions\n",
    "\n",
    "Following columns are strongly correlated and will be removed:\n",
    "* TotRms AbvGrd removed in favour of Gr Liv Area.  The latter is more numerically accurate\n",
    "* Total Bsmt SF removed in favour of 1st Flr SF.  The latter correspond probably.  Plus we also have Fin SF1 which will carry value add\n",
    "* Garage Cars removed in favour of Garage Area.  Again more numerically precise.  \n",
    "\n",
    "\n"
   ]
  },
  {
   "cell_type": "code",
   "execution_count": 410,
   "metadata": {},
   "outputs": [
    {
     "data": {
      "text/plain": [
       "['Wood Deck SF',\n",
       " 'BsmtFin SF 1',\n",
       " 'Fireplaces',\n",
       " 'Mas Vnr Area',\n",
       " 'Garage Cars',\n",
       " '1st Flr SF',\n",
       " 'sold_since_built',\n",
       " 'Garage Area',\n",
       " 'TotRms AbvGrd',\n",
       " 'Total Bsmt SF',\n",
       " 'Full Bath',\n",
       " 'sold_since_remodeled',\n",
       " 'Overall Qual',\n",
       " 'Gr Liv Area',\n",
       " 'Open Porch SF']"
      ]
     },
     "execution_count": 410,
     "metadata": {},
     "output_type": "execute_result"
    }
   ],
   "source": [
    "# Create a routine to automatically select features that are correlated less than some threashold\n",
    "target = ['SalePrice']\n",
    "corr_matrix = corrmat.corr().abs()\n",
    "corr_matrix = corr_matrix.drop(target, axis=1)\n",
    "corr_matrix = corr_matrix.drop(target, axis=0)\n",
    "cols = list(corr_matrix.columns)\n",
    "corr_threshold = 1\n",
    "\n",
    "\n",
    "suitable_features = []\n",
    "for c in cols:\n",
    "    feature_corr = corr_matrix[c].sort_values()\n",
    "    selected_features = feature_corr[feature_corr < corr_threshold]\n",
    "    features = list(selected_features.index)\n",
    "    for feature in features:\n",
    "        if feature not in suitable_features:\n",
    "            suitable_features.append(feature)\n",
    "\n",
    "suitable_features"
   ]
  },
  {
   "cell_type": "markdown",
   "metadata": {},
   "source": [
    "### Update Functions"
   ]
  },
  {
   "cell_type": "code",
   "execution_count": 11,
   "metadata": {},
   "outputs": [],
   "source": [
    "# Reload the Data and check if updated function works\n",
    "data = pd.read_csv('AmesHousing.tsv', sep='\\t')"
   ]
  },
  {
   "cell_type": "code",
   "execution_count": 12,
   "metadata": {},
   "outputs": [
    {
     "data": {
      "text/plain": [
       "1465.0"
      ]
     },
     "execution_count": 12,
     "metadata": {},
     "output_type": "execute_result"
    }
   ],
   "source": [
    "data.shape[0]/2"
   ]
  },
  {
   "cell_type": "code",
   "execution_count": 13,
   "metadata": {},
   "outputs": [
    {
     "name": "stdout",
     "output_type": "stream",
     "text": [
      "(1460, 82)\n",
      "(1470, 82)\n"
     ]
    }
   ],
   "source": [
    "    train = data.iloc[:1460]\n",
    "    test = data.iloc[1460:]\n",
    "    print(train.shape)\n",
    "    print(test.shape)"
   ]
  },
  {
   "cell_type": "code",
   "execution_count": 2,
   "metadata": {},
   "outputs": [
    {
     "data": {
      "text/plain": [
       "29021.528279299604"
      ]
     },
     "execution_count": 2,
     "metadata": {},
     "output_type": "execute_result"
    }
   ],
   "source": [
    "def transform_features(data):\n",
    "    # drop columns that have more than 5% missing\n",
    "    perc_missing = round((data.isna().sum()/data.shape[0])*100,2)\n",
    "    missing_cutoff = perc_missing.loc[perc_missing > 5].index\n",
    "    data.drop(columns=missing_cutoff, inplace=True)\n",
    "\n",
    "    # Review remaining numeric columms with missing values and impute mode\n",
    "    # as data investigation showed the data is not normally distributed\n",
    "    missing_numeric = data.select_dtypes(include=np.number).isna().sum()\n",
    "    missing_numeric = missing_numeric[missing_numeric > 0]\n",
    "    # Impute mode\n",
    "    data[missing_numeric.index] = data[missing_numeric.index].fillna(data[missing_numeric.index].mode().loc[0])\n",
    "\n",
    "    # Create new column that consolidates information from Yr Sold and Year Built in one feature\n",
    "    sold_since_built = data['Yr Sold'] - data['Year Built']\n",
    "\n",
    "    # Also consolidate information between Sold and Remodelled\n",
    "    sold_since_remodeled = data['Yr Sold'] - data['Year Remod/Add']\n",
    "\n",
    "    # Drop columns with negative result as it indicates incorrect data\n",
    "    data['sold_since_built'] = sold_since_built\n",
    "    data.drop(data[data['sold_since_built'] < 0].index, axis=0, inplace=True)\n",
    "\n",
    "    data['sold_since_remodeled'] = sold_since_remodeled\n",
    "    data.drop(data[data['sold_since_remodeled'] < 0].index, inplace=True)\n",
    "\n",
    "    # Remove columns that provide redundant information or\n",
    "    # (based on column description or as a result of combining into the new columns) correlated with SalePrice\n",
    "    redundant_cols = ['Mo Sold', 'Yr Sold','Sale Condition','Sale Type','Year Remod/Add','Year Built']\n",
    "    data.drop(redundant_cols, axis=1, inplace=True)\n",
    "\n",
    "    # Remove numeric columns that do not bear on price such as Order ID or PID\n",
    "    data.drop(['Order','PID'], axis=1, inplace=True)\n",
    "\n",
    "    return data\n",
    "\n",
    "def select_features(data, corr_threshold=0.4, uniqueness=10):\n",
    "    # Remove all the features that are higher correlated than a corr_threashold\n",
    "    numerical_df = data.select_dtypes(include=np.number)\n",
    "    sorted_corr = numerical_df.corr()['SalePrice'].abs().sort_values()\n",
    "    select_corr = list(sorted_corr[sorted_corr > corr_threshold].index)\n",
    "    \n",
    "    # Remove features that was a result of finding colicollinearitynearity in the heatmap\n",
    "    collinears = ['TotRms AbvGrd','Total Bsmt SF','Garage Cars']\n",
    "    for collinear in reversed(collinears):\n",
    "        select_corr.remove(collinear)\n",
    "    \n",
    "    # Examine nominal columns and remove non-unique as per passed uniqueness\n",
    "    all_nominal = [\"MS SubClass\", \"MS Zoning\", \"Street\", \"Alley\", \"Land Contour\", \"Lot Config\", \"Neighborhood\", \n",
    "                    \"Condition 1\", \"Condition 2\", \"Bldg Type\", \"House Style\", \"Roof Style\", \"Roof Matl\", \"Exterior 1st\", \n",
    "                    \"Exterior 2nd\", \"Mas Vnr Type\", \"Foundation\", \"Heating\", \"Central Air\", \"Garage Type\", \n",
    "                    \"Misc Feature\", \"Sale Type\", \"Sale Condition\"]\n",
    "    \n",
    "    # Check if column was not removed\n",
    "    nominal = []\n",
    "    for n in all_nominal:\n",
    "        if n in list(data.columns):\n",
    "            nominal.append(n)\n",
    "        \n",
    "    # Get all non-numeric which uniquness is as per threshold\n",
    "    satis_unique = []\n",
    "    for c in nominal:\n",
    "        if len(data[c].value_counts()) > uniqueness:\n",
    "            satis_unique.append(c)\n",
    "\n",
    "    # Convert the rest of nominal into categorical values\n",
    "    for c in satis_unique:\n",
    "        data[c] = data[c].astype('category')\n",
    "\n",
    "    # Convert categorical columns to dummies to enable vector processing\n",
    "    select_cols = select_corr + satis_unique    \n",
    "    return_df = data[select_cols]\n",
    "    return_df = pd.get_dummies(return_df, columns=satis_unique)\n",
    "    \n",
    "    return return_df\n",
    "\n",
    "def train_and_test(data, k=0):\n",
    "    \n",
    "    from sklearn.linear_model import LinearRegression\n",
    "    from sklearn.metrics import mean_squared_error\n",
    "    lr = LinearRegression()    \n",
    "    target = 'SalePrice'\n",
    "\n",
    "#     test_numeric = test.select_dtypes(include=np.number)\n",
    "    features = [f for f in data if f != 'SalePrice']\n",
    "#     print(features)\n",
    "    if k == 0:       \n",
    "        train = data.iloc[:1460]\n",
    "        test = data.iloc[1460:]\n",
    "        \n",
    "        # Fit the model\n",
    "        lr.fit(train[features].values, train[target].values.reshape(-1,1))\n",
    "        \n",
    "        # Extract predictions\n",
    "        test_predictions = lr.predict(test[features])\n",
    "        \n",
    "        # Compute RMSE\n",
    "        rmse = mean_squared_error(test[target],test_predictions)**(1/2)\n",
    "    elif k == 1:\n",
    "        shuffled_index = np.random.permutation(data.index)\n",
    "        rand_df=data.reindex(shuffled_index)\n",
    "        \n",
    "        fold_one = rand_df.iloc[:1460]\n",
    "        fold_two = rand_df.iloc[1460:]        \n",
    "\n",
    "        # Train on fold_one and test on fold_two\n",
    "        # Fit the model\n",
    "        lr.fit(fold_one[features].values, fold_one[target].values.reshape(-1,1))\n",
    "        \n",
    "        # Extract predictions\n",
    "        test_predictions = lr.predict(fold_two[features])\n",
    "        \n",
    "        # Compute RMSE\n",
    "        rmse_1 = mean_squared_error(fold_two[target],test_predictions)**(1/2)\n",
    "        \n",
    "        # Train on fold_two and test on fold_one\n",
    "        # Fit the model\n",
    "        lr.fit(fold_two[features].values, fold_two[target].values.reshape(-1,1))\n",
    "        \n",
    "        # Extract predictions\n",
    "        test_predictions = lr.predict(fold_one[features])\n",
    "        \n",
    "        # Compute RMSE\n",
    "        rmse_2 = mean_squared_error(fold_one[target],test_predictions)**(1/2)  \n",
    "        \n",
    "        rmse = (rmse_1+rmse_2)/2\n",
    "    \n",
    "    elif k > 1:\n",
    "        from sklearn.model_selection import cross_val_score, KFold\n",
    "        \n",
    "        kf = KFold(n_splits=k, shuffle=True, random_state=1)\n",
    "\n",
    "        mses = cross_val_score(lr, data[features], data[target], scoring='neg_mean_squared_error', cv=kf)\n",
    "        rmse = np.mean(np.sqrt(abs(mses)))\n",
    "#         print('rmses: ', np.sqrt(abs(mses)))\n",
    "        \n",
    "    return rmse\n",
    "\n",
    "transformed_df =  transform_features(data)\n",
    "selected_set_df = select_features(transformed_df, .4)\n",
    "rmse = train_and_test(selected_set_df,10)\n",
    "\n",
    "rmse\n"
   ]
  },
  {
   "cell_type": "markdown",
   "metadata": {},
   "source": [
    "k=0 rmse 32588\n",
    "\n",
    "k=1 rmse 30124\n",
    "\n",
    "k=4 rmse 29301\n",
    "\n",
    "k=10 rmse 29021"
   ]
  },
  {
   "cell_type": "markdown",
   "metadata": {},
   "source": [
    "## Optimal Cross Validation\n",
    "\n",
    "Let's look at optimal crossvalidation and plot it"
   ]
  },
  {
   "cell_type": "code",
   "execution_count": 116,
   "metadata": {},
   "outputs": [],
   "source": [
    "k_rmse = {}\n",
    "# Let's look at optimal crossvalidation and plot it\n",
    "for k in range(100):\n",
    "    k_rmse[k] = train_and_test(selected_set_df,k)\n",
    "    \n"
   ]
  },
  {
   "cell_type": "code",
   "execution_count": 118,
   "metadata": {},
   "outputs": [
    {
     "data": {
      "image/png": "[encoded data removed]",
      "text/plain": [
       "<Figure size 432x288 with 1 Axes>"
      ]
     },
     "metadata": {
      "needs_background": "light"
     },
     "output_type": "display_data"
    }
   ],
   "source": [
    "k_rmse_df = pd.DataFrame.from_dict(k_rmse, orient='index')\n",
    "k_rmse_df.reset_index(inplace=True)\n",
    "k_rmse_df.rename(columns={'index': 'k',0:'rmses'},inplace=True)\n",
    "\n",
    "plt.plot(k_rmse_df.k,k_rmse_df.rmses)\n",
    "plt.show()"
   ]
  },
  {
   "cell_type": "markdown",
   "metadata": {},
   "source": [
    "Looks like prediction increases but probably results in overfitting.  "
   ]
  },
  {
   "cell_type": "markdown",
   "metadata": {},
   "source": [
    "## Optimal Categorical Features\n",
    "\n",
    "Selecting different uniquness threshold."
   ]
  },
  {
   "cell_type": "code",
   "execution_count": 3,
   "metadata": {},
   "outputs": [],
   "source": [
    "u_rmse = {}\n",
    "\n",
    "for u in range(20):\n",
    "    selected_set_df = select_features(transformed_df, .4, u)\n",
    "    u_rmse[u] = train_and_test(selected_set_df,10)"
   ]
  },
  {
   "cell_type": "code",
   "execution_count": 4,
   "metadata": {},
   "outputs": [
    {
     "data": {
      "image/png": "[encoded data removed]",
      "text/plain": [
       "<Figure size 432x288 with 1 Axes>"
      ]
     },
     "metadata": {
      "needs_background": "light"
     },
     "output_type": "display_data"
    }
   ],
   "source": [
    "u_rmse_df = pd.DataFrame.from_dict(u_rmse, orient='index')\n",
    "u_rmse_df.reset_index(inplace=True)\n",
    "u_rmse_df.rename(columns={'index': 'uniq',0:'rmses'},inplace=True)\n",
    "\n",
    "plt.plot(u_rmse_df.uniq,u_rmse_df.rmses)\n",
    "plt.show()"
   ]
  },
  {
   "cell_type": "markdown",
   "metadata": {},
   "source": [
    "It appears that up to 2 uniquness performing much better than default 10.  \n",
    "\n",
    "Let's see how this looks with 80 cross-validations"
   ]
  },
  {
   "cell_type": "code",
   "execution_count": 6,
   "metadata": {},
   "outputs": [
    {
     "data": {
      "text/plain": [
       "26878.554096114694"
      ]
     },
     "execution_count": 6,
     "metadata": {},
     "output_type": "execute_result"
    }
   ],
   "source": [
    "data = pd.read_csv('AmesHousing.tsv', sep='\\t')\n",
    "\n",
    "transformed_df =  transform_features(data)\n",
    "selected_set_df = select_features(transformed_df, .4, 2)\n",
    "rmse = train_and_test(selected_set_df,80)\n",
    "\n",
    "rmse"
   ]
  },
  {
   "cell_type": "markdown",
   "metadata": {},
   "source": [
    "## Optimal Correlation\n",
    "\n",
    "Something to explore next\n"
   ]
  },
  {
   "cell_type": "code",
   "execution_count": null,
   "metadata": {},
   "outputs": [],
   "source": []
  }
 ],
 "metadata": {
  "anaconda-cloud": {},
  "kernelspec": {
   "display_name": "Python 3",
   "language": "python",
   "name": "python3"
  },
  "language_info": {
   "codemirror_mode": {
    "name": "ipython",
    "version": 3
   },
   "file_extension": ".py",
   "mimetype": "text/x-python",
   "name": "python",
   "nbconvert_exporter": "python",
   "pygments_lexer": "ipython3",
   "version": "3.8.3"
  }
 },
 "nbformat": 4,
 "nbformat_minor": 2
}
